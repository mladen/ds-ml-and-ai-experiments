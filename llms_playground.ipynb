{
  "nbformat": 4,
  "nbformat_minor": 0,
  "metadata": {
    "colab": {
      "provenance": []
    },
    "kernelspec": {
      "name": "python3",
      "display_name": "Python 3"
    },
    "language_info": {
      "name": "python"
    }
  },
  "cells": [
    {
      "cell_type": "code",
      "execution_count": null,
      "metadata": {
        "id": "JopF-Fxgv6QF"
      },
      "outputs": [],
      "source": [
        "import pandas as pd"
      ]
    },
    {
      "cell_type": "code",
      "source": [
        "data_frame = pd.read_csv('/content/large_language_models_2024.csv', encoding=\"latin1\")"
      ],
      "metadata": {
        "id": "WxhbhFYNyiZB"
      },
      "execution_count": null,
      "outputs": []
    },
    {
      "cell_type": "code",
      "source": [
        "data_frame.shape"
      ],
      "metadata": {
        "colab": {
          "base_uri": "https://localhost:8080/"
        },
        "id": "yUK0qBcyyfrW",
        "outputId": "5653c2d4-b70f-4bce-edf3-04bba4e80782"
      },
      "execution_count": null,
      "outputs": [
        {
          "output_type": "execute_result",
          "data": {
            "text/plain": [
              "(342, 11)"
            ]
          },
          "metadata": {},
          "execution_count": 11
        }
      ]
    },
    {
      "cell_type": "code",
      "source": [
        "data_frame.values"
      ],
      "metadata": {
        "colab": {
          "base_uri": "https://localhost:8080/"
        },
        "id": "xB1W4DuR1Yir",
        "outputId": "ac44e209-1200-4ab4-9e19-fdac9e11d54b"
      },
      "execution_count": null,
      "outputs": [
        {
          "output_type": "execute_result",
          "data": {
            "text/plain": [
              "array([['Olympus', 'Amazon', 'TBA', ..., 'TBA',\n",
              "        \"New related Titan details: '$65m training run. 200B dense model on 4T tokens of data across 13,760 NVIDIA A100 chips. 48 days to train. Training runs soon to cross $1B' https://importai.substack.com/p/import-ai-365-wmd-benchmark-amazon\",\n",
              "        'https://lifearchitect.ai/olympus/'],\n",
              "       ['GPT-5', 'OpenAI', 'TBA', ..., 'TBA', 'Due 2024.',\n",
              "        'https://lifearchitect.ai/gpt-5/'],\n",
              "       ['GPT-6', 'OpenAI', 'TBA', ..., 'TBA', 'Due 2025.',\n",
              "        'https://lifearchitect.ai/gpt-6/'],\n",
              "       ...,\n",
              "       ['BERT', 'Google', 'Dense', ..., '18-Oct', nan, 'Hugging Face'],\n",
              "       ['GPT-1', 'OpenAI', 'Dense', ..., '18-Jun',\n",
              "        'Books only. \"We train for 100 epochs on minibatches of 64 randomly sampled, contiguous sequences of 512 tokens.\" =3,276,800',\n",
              "        'Hugging Face'],\n",
              "       ['ULMFiT', 'Fast.ai', 'Dense', ..., '18-Jan',\n",
              "        'Aussie Prof Jeremy Howard: https://www.abc.net.au/news/science/2023-11-15/jeremy-howard-taught-ai-to-the-world-and-helped-invent-chatgpt/103092474',\n",
              "        nan]], dtype=object)"
            ]
          },
          "metadata": {},
          "execution_count": 12
        }
      ]
    },
    {
      "cell_type": "code",
      "source": [
        "data_frame[\"Parameters\"]"
      ],
      "metadata": {
        "colab": {
          "base_uri": "https://localhost:8080/"
        },
        "id": "6YmrdfGW1ulf",
        "outputId": "66b12150-7ea1-4b86-e0fc-dd098fd979fe"
      },
      "execution_count": null,
      "outputs": [
        {
          "output_type": "execute_result",
          "data": {
            "text/plain": [
              "0       2000\n",
              "1       2000\n",
              "2        TBA\n",
              "3       1000\n",
              "4        TBA\n",
              "       ...  \n",
              "337    0.355\n",
              "338      1.5\n",
              "339      0.3\n",
              "340    0.117\n",
              "341    0.034\n",
              "Name: Parameters, Length: 342, dtype: object"
            ]
          },
          "metadata": {},
          "execution_count": 18
        }
      ]
    }
  ]
}